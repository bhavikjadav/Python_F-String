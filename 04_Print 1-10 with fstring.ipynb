{
 "cells": [
  {
   "cell_type": "code",
   "execution_count": 3,
   "metadata": {},
   "outputs": [
    {
     "name": "stdout",
     "output_type": "stream",
     "text": [
      "The value is 01.\n",
      "The value is 02.\n",
      "The value is 03.\n",
      "The value is 04.\n",
      "The value is 05.\n",
      "The value is 06.\n",
      "The value is 07.\n",
      "The value is 08.\n",
      "The value is 09.\n",
      "The value is 10.\n"
     ]
    }
   ],
   "source": [
    "for i in range(1, 11):\n",
    "    text = f\"The value is {i:02}.\"  # It adds a format that adds the padding of zero as a prefix.\n",
    "    print(text)"
   ]
  }
 ],
 "metadata": {
  "kernelspec": {
   "display_name": "Python 3",
   "language": "python",
   "name": "python3"
  },
  "language_info": {
   "codemirror_mode": {
    "name": "ipython",
    "version": 3
   },
   "file_extension": ".py",
   "mimetype": "text/x-python",
   "name": "python",
   "nbconvert_exporter": "python",
   "pygments_lexer": "ipython3",
   "version": "3.8.5"
  }
 },
 "nbformat": 4,
 "nbformat_minor": 4
}
